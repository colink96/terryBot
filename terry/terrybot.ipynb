{
 "cells": [
  {
   "cell_type": "code",
   "execution_count": 2,
   "metadata": {},
   "outputs": [],
   "source": [
    "import discord\n",
    "from bs4 import BeautifulSoup\n",
    "import re\n",
    "import requests\n",
    "import prettytable\n",
    "from lxml import html\n",
    "from discord import Game\n",
    "from discord.ext.commands import Bot\n",
    "\n",
    "BOT_PREFIX = ('?','!')\n",
    "TOKEN = \"NTQyMTE3NzM5NjQ5NTY0NzAz.DzzRVw.HSbFmNunN1SDTnKtxWCW9Wse11s\"\n",
    "client = Bot(command_prefix=BOT_PREFIX)\n",
    "wiki_url = 'https://terraria.gamepedia.com/'"
   ]
  },
  {
   "cell_type": "code",
   "execution_count": 3,
   "metadata": {},
   "outputs": [],
   "source": [
    "@client.command()\n",
    "async def craft(item):\n",
    "    item = item.title()\n",
    "    item.replace(' ','_')\n",
    "    data = []\n",
    "    result_list = []\n",
    "    ingredient_list = []\n",
    "    crafting_list = []\n",
    "    resp = requests.get(wiki_url + item).text\n",
    "    soup = BeautifulSoup(resp,'lxml')\n",
    "    table = soup.find('table',{'class':'sortable'})\n",
    "    headers = table.findAll('th')\n",
    "    header_list = []\n",
    "    for result in headers:\n",
    "        header_list.append(result.text)\n",
    "    data.append(header_list)\n",
    "    doc = html.fromstring(resp)\n",
    "    results = doc.xpath('//div[@class=\"crafts\"][1]/div/table/tbody[1]/tr/td[@class=\"result\"]')\n",
    "    for result in results:\n",
    "        result_list.append(result.text_content().strip())\n",
    "    ingredients = doc.xpath('//div[@class=\"crafts\"][1]/div/table/tbody[1]/tr/td[@class=\"ingredients\"]')\n",
    "    for result in ingredients:\n",
    "        ingredient_list.append(result.text_content().strip())\n",
    "    crafting = doc.xpath('//div[@class=\"crafts\"][1]/div/table/tbody[1]/tr/td[@class=\"station\"]')\n",
    "    rowspan = crafting[0].get('rowspan')\n",
    "\n",
    "    for craft in crafting:\n",
    "        if int(craft.get('rowspan'))>0:\n",
    "            for i in range(int(craft.get('rowspan'))):\n",
    "                crafting_list.append(craft.text_content().strip())\n",
    "    for i in range(len(result_list)):\n",
    "        row = [result_list[i], ingredient_list[i],crafting_list[i]]\n",
    "        data.append(row)\n",
    "    x = prettytable.PrettyTable(data[0])\n",
    "    for y in data[1:]:\n",
    "        x.add_row(y)\n",
    "    await client.say(x)\n",
    "\n",
    "@client.event\n",
    "async def on_ready():\n",
    "    print('Logged in as')\n",
    "    print(client.user.name)\n",
    "    print(client.user.id)\n",
    "    print('------')"
   ]
  },
  {
   "cell_type": "code",
   "execution_count": 4,
   "metadata": {},
   "outputs": [],
   "source": [
    "@client.command()\n",
    "async def uses(item):\n",
    "    item = item.title()\n",
    "    item.replace(' ','_')\n",
    "    data = []\n",
    "    result_list = []\n",
    "    ingredient_list = []\n",
    "    crafting_list = []\n",
    "    resp = requests.get(wiki_url + item).text\n",
    "    soup = BeautifulSoup(resp,'lxml')\n",
    "    table = soup.find('table',{'class':'sortable'})\n",
    "    headers = table.findAll('th')\n",
    "    header_list = []\n",
    "    for result in headers:\n",
    "        header_list.append(result.text)\n",
    "    data.append(header_list)\n",
    "    doc = html.fromstring(resp)\n",
    "    results = doc.xpath('//div[@class=\"crafts\"][2]/div/table/tbody[1]/tr/td[@class=\"result\"]')\n",
    "    for result in results:\n",
    "        result_list.append(result.text_content().strip())\n",
    "    ingredients = doc.xpath('//div[@class=\"crafts\"][2]/div/table/tbody[1]/tr/td[@class=\"ingredients\"]')\n",
    "    for result in ingredients:\n",
    "        ingredient_list.append(result.text_content().strip())\n",
    "    crafting = doc.xpath('//div[@class=\"crafts\"][2]/div/table/tbody[1]/tr/td[@class=\"station\"]')\n",
    "    rowspan = crafting[0].get('rowspan')\n",
    "\n",
    "    for craft in crafting:\n",
    "        if int(craft.get('rowspan'))>0:\n",
    "            for i in range(int(craft.get('rowspan'))):\n",
    "                crafting_list.append(craft.text_content().strip().replace('or',', '))\n",
    "    for i in range(len(result_list)):\n",
    "        row = [result_list[i], ingredient_list[i], crafting_list[i]]\n",
    "        data.append(row)\n",
    "    x = prettytable.PrettyTable(data[0])\n",
    "    for y in data[1:]:\n",
    "        x.add_row(y)\n",
    "    await client.say(x)\n"
   ]
  },
  {
   "cell_type": "code",
   "execution_count": 5,
   "metadata": {},
   "outputs": [
    {
     "ename": "RuntimeError",
     "evalue": "Cannot close a running event loop",
     "output_type": "error",
     "traceback": [
      "\u001b[1;31m---------------------------------------------------------------------------\u001b[0m",
      "\u001b[1;31mRuntimeError\u001b[0m                              Traceback (most recent call last)",
      "\u001b[1;32mc:\\users\\colin\\appdata\\local\\programs\\python\\python36\\lib\\site-packages\\discord\\client.py\u001b[0m in \u001b[0;36mrun\u001b[1;34m(self, *args, **kwargs)\u001b[0m\n\u001b[0;32m    518\u001b[0m         \u001b[1;32mtry\u001b[0m\u001b[1;33m:\u001b[0m\u001b[1;33m\u001b[0m\u001b[0m\n\u001b[1;32m--> 519\u001b[1;33m             \u001b[0mself\u001b[0m\u001b[1;33m.\u001b[0m\u001b[0mloop\u001b[0m\u001b[1;33m.\u001b[0m\u001b[0mrun_until_complete\u001b[0m\u001b[1;33m(\u001b[0m\u001b[0mself\u001b[0m\u001b[1;33m.\u001b[0m\u001b[0mstart\u001b[0m\u001b[1;33m(\u001b[0m\u001b[1;33m*\u001b[0m\u001b[0margs\u001b[0m\u001b[1;33m,\u001b[0m \u001b[1;33m**\u001b[0m\u001b[0mkwargs\u001b[0m\u001b[1;33m)\u001b[0m\u001b[1;33m)\u001b[0m\u001b[1;33m\u001b[0m\u001b[0m\n\u001b[0m\u001b[0;32m    520\u001b[0m         \u001b[1;32mexcept\u001b[0m \u001b[0mKeyboardInterrupt\u001b[0m\u001b[1;33m:\u001b[0m\u001b[1;33m\u001b[0m\u001b[0m\n",
      "\u001b[1;32mc:\\users\\colin\\appdata\\local\\programs\\python\\python36\\lib\\asyncio\\base_events.py\u001b[0m in \u001b[0;36mrun_until_complete\u001b[1;34m(self, future)\u001b[0m\n\u001b[0;32m    453\u001b[0m         \u001b[1;32mtry\u001b[0m\u001b[1;33m:\u001b[0m\u001b[1;33m\u001b[0m\u001b[0m\n\u001b[1;32m--> 454\u001b[1;33m             \u001b[0mself\u001b[0m\u001b[1;33m.\u001b[0m\u001b[0mrun_forever\u001b[0m\u001b[1;33m(\u001b[0m\u001b[1;33m)\u001b[0m\u001b[1;33m\u001b[0m\u001b[0m\n\u001b[0m\u001b[0;32m    455\u001b[0m         \u001b[1;32mexcept\u001b[0m\u001b[1;33m:\u001b[0m\u001b[1;33m\u001b[0m\u001b[0m\n",
      "\u001b[1;32mc:\\users\\colin\\appdata\\local\\programs\\python\\python36\\lib\\asyncio\\base_events.py\u001b[0m in \u001b[0;36mrun_forever\u001b[1;34m(self)\u001b[0m\n\u001b[0;32m    407\u001b[0m         \u001b[1;32mif\u001b[0m \u001b[0mself\u001b[0m\u001b[1;33m.\u001b[0m\u001b[0mis_running\u001b[0m\u001b[1;33m(\u001b[0m\u001b[1;33m)\u001b[0m\u001b[1;33m:\u001b[0m\u001b[1;33m\u001b[0m\u001b[0m\n\u001b[1;32m--> 408\u001b[1;33m             \u001b[1;32mraise\u001b[0m \u001b[0mRuntimeError\u001b[0m\u001b[1;33m(\u001b[0m\u001b[1;34m'This event loop is already running'\u001b[0m\u001b[1;33m)\u001b[0m\u001b[1;33m\u001b[0m\u001b[0m\n\u001b[0m\u001b[0;32m    409\u001b[0m         \u001b[1;32mif\u001b[0m \u001b[0mevents\u001b[0m\u001b[1;33m.\u001b[0m\u001b[0m_get_running_loop\u001b[0m\u001b[1;33m(\u001b[0m\u001b[1;33m)\u001b[0m \u001b[1;32mis\u001b[0m \u001b[1;32mnot\u001b[0m \u001b[1;32mNone\u001b[0m\u001b[1;33m:\u001b[0m\u001b[1;33m\u001b[0m\u001b[0m\n",
      "\u001b[1;31mRuntimeError\u001b[0m: This event loop is already running",
      "\nDuring handling of the above exception, another exception occurred:\n",
      "\u001b[1;31mRuntimeError\u001b[0m                              Traceback (most recent call last)",
      "\u001b[1;32m<ipython-input-5-ce2c700fe44e>\u001b[0m in \u001b[0;36m<module>\u001b[1;34m\u001b[0m\n\u001b[1;32m----> 1\u001b[1;33m \u001b[0mclient\u001b[0m\u001b[1;33m.\u001b[0m\u001b[0mrun\u001b[0m\u001b[1;33m(\u001b[0m\u001b[0mTOKEN\u001b[0m\u001b[1;33m)\u001b[0m\u001b[1;33m\u001b[0m\u001b[0m\n\u001b[0m",
      "\u001b[1;32mc:\\users\\colin\\appdata\\local\\programs\\python\\python36\\lib\\site-packages\\discord\\client.py\u001b[0m in \u001b[0;36mrun\u001b[1;34m(self, *args, **kwargs)\u001b[0m\n\u001b[0;32m    532\u001b[0m                 \u001b[1;32mpass\u001b[0m\u001b[1;33m\u001b[0m\u001b[0m\n\u001b[0;32m    533\u001b[0m         \u001b[1;32mfinally\u001b[0m\u001b[1;33m:\u001b[0m\u001b[1;33m\u001b[0m\u001b[0m\n\u001b[1;32m--> 534\u001b[1;33m             \u001b[0mself\u001b[0m\u001b[1;33m.\u001b[0m\u001b[0mloop\u001b[0m\u001b[1;33m.\u001b[0m\u001b[0mclose\u001b[0m\u001b[1;33m(\u001b[0m\u001b[1;33m)\u001b[0m\u001b[1;33m\u001b[0m\u001b[0m\n\u001b[0m\u001b[0;32m    535\u001b[0m \u001b[1;33m\u001b[0m\u001b[0m\n\u001b[0;32m    536\u001b[0m         \u001b[1;31m# properties\u001b[0m\u001b[1;33m\u001b[0m\u001b[1;33m\u001b[0m\u001b[0m\n",
      "\u001b[1;32mc:\\users\\colin\\appdata\\local\\programs\\python\\python36\\lib\\asyncio\\selector_events.py\u001b[0m in \u001b[0;36mclose\u001b[1;34m(self)\u001b[0m\n\u001b[0;32m    105\u001b[0m     \u001b[1;32mdef\u001b[0m \u001b[0mclose\u001b[0m\u001b[1;33m(\u001b[0m\u001b[0mself\u001b[0m\u001b[1;33m)\u001b[0m\u001b[1;33m:\u001b[0m\u001b[1;33m\u001b[0m\u001b[0m\n\u001b[0;32m    106\u001b[0m         \u001b[1;32mif\u001b[0m \u001b[0mself\u001b[0m\u001b[1;33m.\u001b[0m\u001b[0mis_running\u001b[0m\u001b[1;33m(\u001b[0m\u001b[1;33m)\u001b[0m\u001b[1;33m:\u001b[0m\u001b[1;33m\u001b[0m\u001b[0m\n\u001b[1;32m--> 107\u001b[1;33m             \u001b[1;32mraise\u001b[0m \u001b[0mRuntimeError\u001b[0m\u001b[1;33m(\u001b[0m\u001b[1;34m\"Cannot close a running event loop\"\u001b[0m\u001b[1;33m)\u001b[0m\u001b[1;33m\u001b[0m\u001b[0m\n\u001b[0m\u001b[0;32m    108\u001b[0m         \u001b[1;32mif\u001b[0m \u001b[0mself\u001b[0m\u001b[1;33m.\u001b[0m\u001b[0mis_closed\u001b[0m\u001b[1;33m(\u001b[0m\u001b[1;33m)\u001b[0m\u001b[1;33m:\u001b[0m\u001b[1;33m\u001b[0m\u001b[0m\n\u001b[0;32m    109\u001b[0m             \u001b[1;32mreturn\u001b[0m\u001b[1;33m\u001b[0m\u001b[0m\n",
      "\u001b[1;31mRuntimeError\u001b[0m: Cannot close a running event loop"
     ]
    },
    {
     "name": "stdout",
     "output_type": "stream",
     "text": [
      "Logged in as\n",
      "terry\n",
      "542117739649564703\n",
      "------\n"
     ]
    }
   ],
   "source": [
    "client.run(TOKEN)"
   ]
  },
  {
   "cell_type": "code",
   "execution_count": null,
   "metadata": {},
   "outputs": [],
   "source": []
  }
 ],
 "metadata": {
  "kernelspec": {
   "display_name": "Python 3",
   "language": "python",
   "name": "python3"
  },
  "language_info": {
   "codemirror_mode": {
    "name": "ipython",
    "version": 3
   },
   "file_extension": ".py",
   "mimetype": "text/x-python",
   "name": "python",
   "nbconvert_exporter": "python",
   "pygments_lexer": "ipython3",
   "version": "3.6.0"
  }
 },
 "nbformat": 4,
 "nbformat_minor": 2
}
